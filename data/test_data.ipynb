{
 "cells": [
  {
   "cell_type": "code",
   "execution_count": 2,
   "metadata": {},
   "outputs": [],
   "source": [
    "\n",
    "import json\n",
    "import pandas as pd\n",
    "file = '1kmock.json'\n",
    "with open(file) as file:\n",
    "    df = pd.json_normalize(json.load(file))"
   ]
  },
  {
   "cell_type": "code",
   "execution_count": 3,
   "metadata": {},
   "outputs": [
    {
     "data": {
      "text/html": [
       "<div>\n",
       "<style scoped>\n",
       "    .dataframe tbody tr th:only-of-type {\n",
       "        vertical-align: middle;\n",
       "    }\n",
       "\n",
       "    .dataframe tbody tr th {\n",
       "        vertical-align: top;\n",
       "    }\n",
       "\n",
       "    .dataframe thead th {\n",
       "        text-align: right;\n",
       "    }\n",
       "</style>\n",
       "<table border=\"1\" class=\"dataframe\">\n",
       "  <thead>\n",
       "    <tr style=\"text-align: right;\">\n",
       "      <th></th>\n",
       "      <th>url</th>\n",
       "      <th>content</th>\n",
       "    </tr>\n",
       "  </thead>\n",
       "  <tbody>\n",
       "    <tr>\n",
       "      <th>241</th>\n",
       "      <td>https://edition.cnn.com/2012/01/25/world/europ...</td>\n",
       "      <td>In his answers to prosecutors, defense attorne...</td>\n",
       "    </tr>\n",
       "    <tr>\n",
       "      <th>86</th>\n",
       "      <td>https://edition.cnn.com/2012/02/19/world/europ...</td>\n",
       "      <td>A Sunday edition of Britain’s best-selling new...</td>\n",
       "    </tr>\n",
       "    <tr>\n",
       "      <th>357</th>\n",
       "      <td>https://edition.cnn.com/2012/02/09/sport/tenni...</td>\n",
       "      <td>Home favourite Marion Bartoli recovered from a...</td>\n",
       "    </tr>\n",
       "    <tr>\n",
       "      <th>360</th>\n",
       "      <td>https://edition.cnn.com/2012/02/09/world/europ...</td>\n",
       "      <td>Voice mails left by Paul McCartney for his the...</td>\n",
       "    </tr>\n",
       "    <tr>\n",
       "      <th>701</th>\n",
       "      <td>https://edition.cnn.com/2012/07/11/world/europ...</td>\n",
       "      <td>There’s no better feeling when you’re showing ...</td>\n",
       "    </tr>\n",
       "  </tbody>\n",
       "</table>\n",
       "</div>"
      ],
      "text/plain": [
       "                                                   url  \\\n",
       "241  https://edition.cnn.com/2012/01/25/world/europ...   \n",
       "86   https://edition.cnn.com/2012/02/19/world/europ...   \n",
       "357  https://edition.cnn.com/2012/02/09/sport/tenni...   \n",
       "360  https://edition.cnn.com/2012/02/09/world/europ...   \n",
       "701  https://edition.cnn.com/2012/07/11/world/europ...   \n",
       "\n",
       "                                               content  \n",
       "241  In his answers to prosecutors, defense attorne...  \n",
       "86   A Sunday edition of Britain’s best-selling new...  \n",
       "357  Home favourite Marion Bartoli recovered from a...  \n",
       "360  Voice mails left by Paul McCartney for his the...  \n",
       "701  There’s no better feeling when you’re showing ...  "
      ]
     },
     "execution_count": 3,
     "metadata": {},
     "output_type": "execute_result"
    }
   ],
   "source": [
    "df.sample(5)"
   ]
  }
 ],
 "metadata": {
  "kernelspec": {
   "display_name": "Python 3",
   "language": "python",
   "name": "python3"
  },
  "language_info": {
   "codemirror_mode": {
    "name": "ipython",
    "version": 3
   },
   "file_extension": ".py",
   "mimetype": "text/x-python",
   "name": "python",
   "nbconvert_exporter": "python",
   "pygments_lexer": "ipython3",
   "version": "3.11.9"
  }
 },
 "nbformat": 4,
 "nbformat_minor": 2
}
